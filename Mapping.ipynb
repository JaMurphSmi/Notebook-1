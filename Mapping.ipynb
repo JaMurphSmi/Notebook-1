{
 "cells": [
  {
   "cell_type": "code",
   "execution_count": 69,
   "metadata": {},
   "outputs": [],
   "source": [
    "import numpy as np # linear algebra\n",
    "import pandas as pd # data processing, CSV file I/O (e.g. pd.read_csv)\n",
    "import plotly.plotly as py\n",
    "import plotly.graph_objs as go\n",
    "from plotly import tools\n",
    "from plotly.offline import iplot, init_notebook_mode\n",
    "import pycountry\n",
    "%matplotlib inline \n",
    "\n",
    "dataSurvey = pd.read_csv('C:/Users/Thomas/Desktop/StackOverFlow/survey_results_public.csv')"
   ]
  },
  {
   "cell_type": "code",
   "execution_count": 120,
   "metadata": {},
   "outputs": [],
   "source": [
    "mapping = {country.name: country.alpha3 for country in pycountry.countries}\n",
    "mappingDataList = []\n",
    "\n",
    "for country in mapping:\n",
    "    mappingData = {'Country': country, 'Code': mapping[country], 'Total': (dataSurvey.Country == country).sum(), \n",
    "                  'Male' : str(len(dataSurvey[(dataSurvey['Country']== country) & (dataSurvey['Gender']=='Male')])),\n",
    "                  'Female': str(len(dataSurvey[(dataSurvey['Country']== country) & (dataSurvey['Gender']=='Female')]))}\n",
    "    mappingDataList.append(mappingData)\n",
    "    \n",
    "df = pd.DataFrame(mappingDataList) # creating panda object "
   ]
  },
  {
   "cell_type": "code",
   "execution_count": 121,
   "metadata": {},
   "outputs": [
    {
     "data": {
      "text/html": [
       "<iframe id=\"igraph\" scrolling=\"no\" style=\"border:none;\" seamless=\"seamless\" src=\"https://plot.ly/~HaveAnAverageDay/48.embed\" height=\"525px\" width=\"100%\"></iframe>"
      ],
      "text/plain": [
       "<plotly.tools.PlotlyDisplay object>"
      ]
     },
     "execution_count": 121,
     "metadata": {},
     "output_type": "execute_result"
    }
   ],
   "source": [
    "df['text'] = df['Country'] + \"<br>\" + \"Males : \" + df['Male'] + \"<br>\" + \"Females : \" + df['Female']\n",
    "\n",
    "data = [ dict(\n",
    "        type = 'choropleth',\n",
    "        locations = df['Code'],\n",
    "        z = df['Total'],\n",
    "        text = df['text'],\n",
    "        colorscale = [[0,\"rgb(5, 10, 172)\"],[0.35,\"rgb(40, 60, 190)\"],[0.5,\"rgb(70, 100, 245)\"],\\\n",
    "            [0.6,\"rgb(90, 120, 245)\"],[0.7,\"rgb(106, 137, 247)\"],[1,\"rgb(220, 220, 220)\"]],\n",
    "        autocolorscale = False,\n",
    "        reversescale = True,\n",
    "        marker = dict(\n",
    "            line = dict (\n",
    "                color = 'rgb(180,180,180)',\n",
    "                width = 0.5\n",
    "            ) ),\n",
    "        colorbar = dict(\n",
    "            autotick = False,\n",
    "            tickprefix = '',\n",
    "            title = 'Respondents<br>Thousands'),\n",
    "      ) ]\n",
    "\n",
    "layout = dict(\n",
    "    title = '2017 Stackoverflow Respondents<br>Source:\\\n",
    "            <a href=\"https://insights.stackoverflow.com/survey/\">\\\n",
    "            Stack Overflow Annual Developer Survey</a>',\n",
    "    geo = dict(\n",
    "        showframe = False,\n",
    "        showcoastlines = False,\n",
    "        projection = dict(\n",
    "            type = 'Mercator'\n",
    "        )\n",
    "    )\n",
    ")\n",
    "\n",
    "fig = dict( data=data, layout=layout )\n",
    "py.iplot( fig, validate=False)"
   ]
  },
  {
   "cell_type": "code",
   "execution_count": null,
   "metadata": {
    "collapsed": true
   },
   "outputs": [],
   "source": []
  }
 ],
 "metadata": {
  "kernelspec": {
   "display_name": "Python 3",
   "language": "python",
   "name": "python3"
  },
  "language_info": {
   "codemirror_mode": {
    "name": "ipython",
    "version": 3
   },
   "file_extension": ".py",
   "mimetype": "text/x-python",
   "name": "python",
   "nbconvert_exporter": "python",
   "pygments_lexer": "ipython3",
   "version": "3.6.3"
  }
 },
 "nbformat": 4,
 "nbformat_minor": 2
}
